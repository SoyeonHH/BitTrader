{
 "cells": [
  {
   "cell_type": "markdown",
   "id": "sudden-shelter",
   "metadata": {},
   "source": [
    "출처 : https://www.dacon.io/competitions/official/235712/codeshare/2453?page=1&dtype=recent"
   ]
  },
  {
   "cell_type": "code",
   "execution_count": 1,
   "id": "eleven-animal",
   "metadata": {},
   "outputs": [],
   "source": [
    "#Library Imports\n",
    "import numpy as np\n",
    "import pandas as pd\n",
    "import math\n",
    "import os\n",
    "import matplotlib.pyplot as plt\n",
    "\n",
    "\n",
    "import tensorflow as tf\n",
    "from tensorflow import keras\n",
    "from tensorflow.keras.models import Sequential\n",
    "from tensorflow.keras.layers import Dense, LSTM, Reshape, GRU\n",
    "\n",
    "os.environ['CUDA_VISIBLE_DEVICES']=\"2\""
   ]
  },
  {
   "cell_type": "code",
   "execution_count": 2,
   "id": "joined-chase",
   "metadata": {},
   "outputs": [],
   "source": [
    "#파일 경로를 설정해줍니다.\n",
    "import os\n",
    "os.chdir('./open')"
   ]
  },
  {
   "cell_type": "code",
   "execution_count": 3,
   "id": "accepting-meditation",
   "metadata": {},
   "outputs": [],
   "source": [
    "train_x_df=pd.read_csv('train_x_df.csv')\n",
    "train_y_df=pd.read_csv('train_y_df.csv')\n",
    "test_x_df=pd.read_csv('test_x_df.csv')\n",
    "sample_submission=pd.read_csv('sample_submission.csv')"
   ]
  },
  {
   "cell_type": "code",
   "execution_count": 4,
   "id": "false-reason",
   "metadata": {},
   "outputs": [
    {
     "name": "stdout",
     "output_type": "stream",
     "text": [
      "7661.0 7661.0\n"
     ]
    }
   ],
   "source": [
    "# time 수로 나누어 samples 수 확인\n",
    "print(len(train_x_df)/1380, len(train_y_df)/120)"
   ]
  },
  {
   "cell_type": "code",
   "execution_count": 5,
   "id": "narrative-potter",
   "metadata": {},
   "outputs": [
    {
     "name": "stdout",
     "output_type": "stream",
     "text": [
      "7661\n",
      "7661\n"
     ]
    }
   ],
   "source": [
    "print(train_x_df.sample_id.nunique())\n",
    "print(train_y_df.sample_id.nunique())"
   ]
  },
  {
   "cell_type": "code",
   "execution_count": 6,
   "id": "covered-dispute",
   "metadata": {},
   "outputs": [
    {
     "data": {
      "text/html": [
       "<div>\n",
       "<style scoped>\n",
       "    .dataframe tbody tr th:only-of-type {\n",
       "        vertical-align: middle;\n",
       "    }\n",
       "\n",
       "    .dataframe tbody tr th {\n",
       "        vertical-align: top;\n",
       "    }\n",
       "\n",
       "    .dataframe thead th {\n",
       "        text-align: right;\n",
       "    }\n",
       "</style>\n",
       "<table border=\"1\" class=\"dataframe\">\n",
       "  <thead>\n",
       "    <tr style=\"text-align: right;\">\n",
       "      <th></th>\n",
       "      <th>sample_id</th>\n",
       "      <th>time</th>\n",
       "      <th>coin_index</th>\n",
       "      <th>open</th>\n",
       "      <th>high</th>\n",
       "      <th>low</th>\n",
       "      <th>close</th>\n",
       "      <th>volume</th>\n",
       "      <th>quote_av</th>\n",
       "      <th>trades</th>\n",
       "      <th>tb_base_av</th>\n",
       "      <th>tb_quote_av</th>\n",
       "    </tr>\n",
       "  </thead>\n",
       "  <tbody>\n",
       "    <tr>\n",
       "      <th>0</th>\n",
       "      <td>0</td>\n",
       "      <td>0</td>\n",
       "      <td>9</td>\n",
       "      <td>0.983614</td>\n",
       "      <td>0.983614</td>\n",
       "      <td>0.983128</td>\n",
       "      <td>0.983246</td>\n",
       "      <td>0.001334</td>\n",
       "      <td>10.650987</td>\n",
       "      <td>0.009855</td>\n",
       "      <td>0.000848</td>\n",
       "      <td>6.771755</td>\n",
       "    </tr>\n",
       "    <tr>\n",
       "      <th>1</th>\n",
       "      <td>0</td>\n",
       "      <td>1</td>\n",
       "      <td>9</td>\n",
       "      <td>0.983245</td>\n",
       "      <td>0.983612</td>\n",
       "      <td>0.982453</td>\n",
       "      <td>0.982693</td>\n",
       "      <td>0.001425</td>\n",
       "      <td>11.375689</td>\n",
       "      <td>0.016137</td>\n",
       "      <td>0.000697</td>\n",
       "      <td>5.565188</td>\n",
       "    </tr>\n",
       "  </tbody>\n",
       "</table>\n",
       "</div>"
      ],
      "text/plain": [
       "   sample_id  time  coin_index      open      high       low     close  \\\n",
       "0          0     0           9  0.983614  0.983614  0.983128  0.983246   \n",
       "1          0     1           9  0.983245  0.983612  0.982453  0.982693   \n",
       "\n",
       "     volume   quote_av    trades  tb_base_av  tb_quote_av  \n",
       "0  0.001334  10.650987  0.009855    0.000848     6.771755  \n",
       "1  0.001425  11.375689  0.016137    0.000697     5.565188  "
      ]
     },
     "execution_count": 6,
     "metadata": {},
     "output_type": "execute_result"
    }
   ],
   "source": [
    "train_x_df.head(2)"
   ]
  },
  {
   "cell_type": "code",
   "execution_count": 7,
   "id": "exotic-thermal",
   "metadata": {},
   "outputs": [
    {
     "data": {
      "text/html": [
       "<div>\n",
       "<style scoped>\n",
       "    .dataframe tbody tr th:only-of-type {\n",
       "        vertical-align: middle;\n",
       "    }\n",
       "\n",
       "    .dataframe tbody tr th {\n",
       "        vertical-align: top;\n",
       "    }\n",
       "\n",
       "    .dataframe thead th {\n",
       "        text-align: right;\n",
       "    }\n",
       "</style>\n",
       "<table border=\"1\" class=\"dataframe\">\n",
       "  <thead>\n",
       "    <tr style=\"text-align: right;\">\n",
       "      <th></th>\n",
       "      <th>sample_id</th>\n",
       "      <th>time</th>\n",
       "      <th>coin_index</th>\n",
       "      <th>open</th>\n",
       "      <th>high</th>\n",
       "      <th>low</th>\n",
       "      <th>close</th>\n",
       "      <th>volume</th>\n",
       "      <th>quote_av</th>\n",
       "      <th>trades</th>\n",
       "      <th>tb_base_av</th>\n",
       "      <th>tb_quote_av</th>\n",
       "    </tr>\n",
       "  </thead>\n",
       "  <tbody>\n",
       "    <tr>\n",
       "      <th>0</th>\n",
       "      <td>0</td>\n",
       "      <td>0</td>\n",
       "      <td>9</td>\n",
       "      <td>0.999389</td>\n",
       "      <td>0.99963</td>\n",
       "      <td>0.999261</td>\n",
       "      <td>0.999385</td>\n",
       "      <td>0.001187</td>\n",
       "      <td>9.632785</td>\n",
       "      <td>0.012565</td>\n",
       "      <td>0.000605</td>\n",
       "      <td>4.904978</td>\n",
       "    </tr>\n",
       "    <tr>\n",
       "      <th>1</th>\n",
       "      <td>0</td>\n",
       "      <td>1</td>\n",
       "      <td>9</td>\n",
       "      <td>0.999593</td>\n",
       "      <td>1.00000</td>\n",
       "      <td>0.999265</td>\n",
       "      <td>0.999266</td>\n",
       "      <td>0.004197</td>\n",
       "      <td>34.052364</td>\n",
       "      <td>0.020572</td>\n",
       "      <td>0.003014</td>\n",
       "      <td>24.453999</td>\n",
       "    </tr>\n",
       "  </tbody>\n",
       "</table>\n",
       "</div>"
      ],
      "text/plain": [
       "   sample_id  time  coin_index      open     high       low     close  \\\n",
       "0          0     0           9  0.999389  0.99963  0.999261  0.999385   \n",
       "1          0     1           9  0.999593  1.00000  0.999265  0.999266   \n",
       "\n",
       "     volume   quote_av    trades  tb_base_av  tb_quote_av  \n",
       "0  0.001187   9.632785  0.012565    0.000605     4.904978  \n",
       "1  0.004197  34.052364  0.020572    0.003014    24.453999  "
      ]
     },
     "execution_count": 7,
     "metadata": {},
     "output_type": "execute_result"
    }
   ],
   "source": [
    "train_y_df.head(2)"
   ]
  },
  {
   "cell_type": "code",
   "execution_count": 8,
   "id": "collect-management",
   "metadata": {},
   "outputs": [
    {
     "data": {
      "text/plain": [
       "535.0"
      ]
     },
     "execution_count": 8,
     "metadata": {},
     "output_type": "execute_result"
    }
   ],
   "source": [
    "#submission 개수 1380 *535\n",
    "len(test_x_df)/1380"
   ]
  },
  {
   "cell_type": "markdown",
   "id": "refined-healing",
   "metadata": {},
   "source": [
    "### 데이터 재구성"
   ]
  },
  {
   "cell_type": "code",
   "execution_count": 9,
   "id": "centered-revision",
   "metadata": {},
   "outputs": [
    {
     "data": {
      "text/plain": [
       "array([[9.83614206e-01, 9.83614206e-01, 9.83127594e-01, ...,\n",
       "        9.85464361e-03, 8.48178868e-04, 6.77175522e+00],\n",
       "       [9.83244658e-01, 9.83611703e-01, 9.82452571e-01, ...,\n",
       "        1.61369797e-02, 6.97290583e-04, 5.56518841e+00],\n",
       "       [9.82693970e-01, 9.83611703e-01, 9.82403278e-01, ...,\n",
       "        1.41660506e-02, 9.05190827e-04, 7.22545862e+00],\n",
       "       ...,\n",
       "       [1.00027728e+00, 1.00038815e+00, 9.99833643e-01, ...,\n",
       "        7.81856537e-01, 3.60461026e-01, 6.50189362e+01],\n",
       "       [1.00016630e+00, 1.00022185e+00, 9.99778211e-01, ...,\n",
       "        6.70954883e-01, 2.96588272e-01, 5.34865646e+01],\n",
       "       [1.00000000e+00, 1.00055456e+00, 9.99889135e-01, ...,\n",
       "        1.26427865e+00, 7.35242546e-01, 1.32617462e+02]])"
      ]
     },
     "execution_count": 9,
     "metadata": {},
     "output_type": "execute_result"
    }
   ],
   "source": [
    "train_x_df.iloc[:,3:].values"
   ]
  },
  {
   "cell_type": "code",
   "execution_count": 10,
   "id": "starting-intention",
   "metadata": {},
   "outputs": [],
   "source": [
    "#데이터프레임을 tensorflow 모델에 적합하게 reshape\n",
    "train_x = tf.reshape(train_x_df.iloc[:,3].values, [-1, 1380, 1])\n",
    "train_y = tf.reshape(train_y_df.iloc[:,3].values, [-1, 120, 1])\n",
    "test_x = tf.reshape(test_x_df.iloc[:,3].values, [-1, 1380, 1])"
   ]
  },
  {
   "cell_type": "code",
   "execution_count": 17,
   "id": "unlikely-rehabilitation",
   "metadata": {},
   "outputs": [
    {
     "data": {
      "text/plain": [
       "<tf.Tensor: shape=(7661,), dtype=float64, numpy=array([1., 1., 1., ..., 1., 1., 1.])>"
      ]
     },
     "execution_count": 17,
     "metadata": {},
     "output_type": "execute_result"
    }
   ],
   "source": [
    "#아래와 같이 train 데이터에서 시가의 마지막 값이 모두 1임을 확인\n",
    "train_x[:, 1379, 0]"
   ]
  },
  {
   "cell_type": "code",
   "execution_count": 12,
   "id": "green-spray",
   "metadata": {},
   "outputs": [
    {
     "data": {
      "text/plain": [
       "<tf.Tensor: shape=(535,), dtype=float64, numpy=\n",
       "array([1., 1., 1., 1., 1., 1., 1., 1., 1., 1., 1., 1., 1., 1., 1., 1., 1.,\n",
       "       1., 1., 1., 1., 1., 1., 1., 1., 1., 1., 1., 1., 1., 1., 1., 1., 1.,\n",
       "       1., 1., 1., 1., 1., 1., 1., 1., 1., 1., 1., 1., 1., 1., 1., 1., 1.,\n",
       "       1., 1., 1., 1., 1., 1., 1., 1., 1., 1., 1., 1., 1., 1., 1., 1., 1.,\n",
       "       1., 1., 1., 1., 1., 1., 1., 1., 1., 1., 1., 1., 1., 1., 1., 1., 1.,\n",
       "       1., 1., 1., 1., 1., 1., 1., 1., 1., 1., 1., 1., 1., 1., 1., 1., 1.,\n",
       "       1., 1., 1., 1., 1., 1., 1., 1., 1., 1., 1., 1., 1., 1., 1., 1., 1.,\n",
       "       1., 1., 1., 1., 1., 1., 1., 1., 1., 1., 1., 1., 1., 1., 1., 1., 1.,\n",
       "       1., 1., 1., 1., 1., 1., 1., 1., 1., 1., 1., 1., 1., 1., 1., 1., 1.,\n",
       "       1., 1., 1., 1., 1., 1., 1., 1., 1., 1., 1., 1., 1., 1., 1., 1., 1.,\n",
       "       1., 1., 1., 1., 1., 1., 1., 1., 1., 1., 1., 1., 1., 1., 1., 1., 1.,\n",
       "       1., 1., 1., 1., 1., 1., 1., 1., 1., 1., 1., 1., 1., 1., 1., 1., 1.,\n",
       "       1., 1., 1., 1., 1., 1., 1., 1., 1., 1., 1., 1., 1., 1., 1., 1., 1.,\n",
       "       1., 1., 1., 1., 1., 1., 1., 1., 1., 1., 1., 1., 1., 1., 1., 1., 1.,\n",
       "       1., 1., 1., 1., 1., 1., 1., 1., 1., 1., 1., 1., 1., 1., 1., 1., 1.,\n",
       "       1., 1., 1., 1., 1., 1., 1., 1., 1., 1., 1., 1., 1., 1., 1., 1., 1.,\n",
       "       1., 1., 1., 1., 1., 1., 1., 1., 1., 1., 1., 1., 1., 1., 1., 1., 1.,\n",
       "       1., 1., 1., 1., 1., 1., 1., 1., 1., 1., 1., 1., 1., 1., 1., 1., 1.,\n",
       "       1., 1., 1., 1., 1., 1., 1., 1., 1., 1., 1., 1., 1., 1., 1., 1., 1.,\n",
       "       1., 1., 1., 1., 1., 1., 1., 1., 1., 1., 1., 1., 1., 1., 1., 1., 1.,\n",
       "       1., 1., 1., 1., 1., 1., 1., 1., 1., 1., 1., 1., 1., 1., 1., 1., 1.,\n",
       "       1., 1., 1., 1., 1., 1., 1., 1., 1., 1., 1., 1., 1., 1., 1., 1., 1.,\n",
       "       1., 1., 1., 1., 1., 1., 1., 1., 1., 1., 1., 1., 1., 1., 1., 1., 1.,\n",
       "       1., 1., 1., 1., 1., 1., 1., 1., 1., 1., 1., 1., 1., 1., 1., 1., 1.,\n",
       "       1., 1., 1., 1., 1., 1., 1., 1., 1., 1., 1., 1., 1., 1., 1., 1., 1.,\n",
       "       1., 1., 1., 1., 1., 1., 1., 1., 1., 1., 1., 1., 1., 1., 1., 1., 1.,\n",
       "       1., 1., 1., 1., 1., 1., 1., 1., 1., 1., 1., 1., 1., 1., 1., 1., 1.,\n",
       "       1., 1., 1., 1., 1., 1., 1., 1., 1., 1., 1., 1., 1., 1., 1., 1., 1.,\n",
       "       1., 1., 1., 1., 1., 1., 1., 1., 1., 1., 1., 1., 1., 1., 1., 1., 1.,\n",
       "       1., 1., 1., 1., 1., 1., 1., 1., 1., 1., 1., 1., 1., 1., 1., 1., 1.,\n",
       "       1., 1., 1., 1., 1., 1., 1., 1., 1., 1., 1., 1., 1., 1., 1., 1., 1.,\n",
       "       1., 1., 1., 1., 1., 1., 1., 1.])>"
      ]
     },
     "execution_count": 12,
     "metadata": {},
     "output_type": "execute_result"
    }
   ],
   "source": [
    "test_x[:, 1379, 0]"
   ]
  },
  {
   "cell_type": "markdown",
   "id": "cooked-relative",
   "metadata": {},
   "source": [
    "### EDA"
   ]
  },
  {
   "cell_type": "code",
   "execution_count": 13,
   "id": "vertical-chapel",
   "metadata": {},
   "outputs": [
    {
     "name": "stdout",
     "output_type": "stream",
     "text": [
      "(7661, 1380, 1) (7661, 120, 1) (535, 1380, 1)\n"
     ]
    }
   ],
   "source": [
    "#재구성한 뒤 train_x, train_y, test_x의 shape를 확인\n",
    "print(train_x.shape, train_y.shape, test_x.shape)"
   ]
  },
  {
   "cell_type": "code",
   "execution_count": 15,
   "id": "gentle-ground",
   "metadata": {},
   "outputs": [
    {
     "data": {
      "image/png": "[encoded data removed]",
      "text/plain": [
       "<Figure size 1080x360 with 1 Axes>"
      ]
     },
     "metadata": {
      "needs_background": "light"
     },
     "output_type": "display_data"
    }
   ],
   "source": [
    "row=1\n",
    "row+=1\n",
    "plt.figure(figsize=(15,5))\n",
    "\n",
    "\n",
    "plt.plot(train_x[row,:,0], label='train_x open')\n",
    "plt.plot(np.arange(train_x.shape[1],train_x.shape[1]+ train_y.shape[1]), train_y[row, :, 0], label='train_y open')\n",
    "plt.legend()\n",
    "plt.title('open graph')\n",
    "plt.show()"
   ]
  },
  {
   "cell_type": "markdown",
   "id": "standing-current",
   "metadata": {},
   "source": [
    "### 자기 회귀 모델 구성"
   ]
  },
  {
   "cell_type": "code",
   "execution_count": 18,
   "id": "apart-discipline",
   "metadata": {},
   "outputs": [
    {
     "data": {
      "text/plain": [
       "TensorShape([7661, 1380, 1])"
      ]
     },
     "execution_count": 18,
     "metadata": {},
     "output_type": "execute_result"
    }
   ],
   "source": [
    "train_x.shape"
   ]
  },
  {
   "cell_type": "code",
   "execution_count": 23,
   "id": "otherwise-technology",
   "metadata": {},
   "outputs": [
    {
     "name": "stdout",
     "output_type": "stream",
     "text": [
      "(7661, 5, 170, 1) (7661, 5, 60, 1)\n"
     ]
    }
   ],
   "source": [
    "input_window=170\n",
    "output_window=60\n",
    "window=input_window + output_window\n",
    "\n",
    "train_window_x= np.zeros(( train_x.shape[0], (train_x.shape[1]-(input_window + output_window))//230, input_window, 1))\n",
    "train_window_y= np.zeros(( train_x.shape[0], (train_x.shape[1]-(input_window + output_window))//230, output_window, 1))\n",
    "print(train_window_x.shape, train_window_y.shape)\n",
    "\n",
    "for example in range(train_x.shape[0]):\n",
    "    \n",
    "    for start in range(0,  train_x.shape[1]-(input_window + output_window), 230):\n",
    "        end=start+input_window\n",
    "        train_window_x[example, start//230, :, :] = train_x[example, start: end               , :]\n",
    "        train_window_y[example, start//230, :, :] = train_x[example, end  : end+ output_window, :]"
   ]
  },
  {
   "cell_type": "code",
   "execution_count": 24,
   "id": "sound-programmer",
   "metadata": {},
   "outputs": [],
   "source": [
    "new_train_x=tf.reshape(train_window_x, [-1, 170, 1])\n",
    "new_train_y=tf.reshape(train_window_y, [-1, 60, 1])"
   ]
  },
  {
   "cell_type": "code",
   "execution_count": 25,
   "id": "religious-direction",
   "metadata": {},
   "outputs": [
    {
     "name": "stdout",
     "output_type": "stream",
     "text": [
      "\n",
      ".............................."
     ]
    }
   ],
   "source": [
    "time        = new_train_x.shape[1] #170\n",
    "num_features= new_train_x.shape[2] #1\n",
    "OUT_STEPS   = new_train_y.shape[1] #60\n",
    "\n",
    "#####층 쌓기###########\n",
    "\n",
    "\n",
    "model=Sequential([\n",
    "LSTM(32, input_shape=(time, num_features), dropout=0.2, recurrent_dropout=0.2),\n",
    "Dense(OUT_STEPS * num_features), \n",
    "Reshape([OUT_STEPS, num_features])\n",
    "]).\n",
    "\n",
    "\n",
    "\n",
    "#######Compile 구성하기################\n",
    "\n",
    "\n",
    "model.compile(optimizer='rmsprop', loss='mae', metrics=['mae'])\n",
    "# 에포크가 끝날 때마다 점(.)을 출력해 훈련 진행 과정을 표시합니다\n",
    "class PrintDot(keras.callbacks.Callback):\n",
    "    def on_epoch_end(self, epoch, logs):\n",
    "        if epoch % 100 == 0: print('')\n",
    "        print('.', end='')\n",
    "\n",
    "#가장 좋은 성능을 낸 val_loss가 적은 model만 남겨 놓았습니다.\n",
    "save_best_only=tf.keras.callbacks.ModelCheckpoint(filepath=\"lstm_model.h5\", monitor='val_loss', save_best_only=True)\n",
    "\n",
    "\n",
    "early_stop = tf.keras.callbacks.EarlyStopping(monitor='val_loss', patience=20)\n",
    "\n",
    "#검증 손실이 10epoch 동안 좋아지지 않으면 학습률을 0.1 배로 재구성하는 명령어입니다.\n",
    "reduceLR = tf.keras.callbacks.ReduceLROnPlateau(monitor='val_loss', factor=0.1, patience=10)\n",
    "\n",
    "\n",
    "######################\n",
    "history = model.fit(new_train_x, new_train_y, epochs=30, batch_size=128, validation_split = 0.2, verbose=0, callbacks=[PrintDot(), early_stop, save_best_only , reduceLR])"
   ]
  },
  {
   "cell_type": "code",
   "execution_count": 26,
   "id": "electric-missouri",
   "metadata": {},
   "outputs": [
    {
     "name": "stdout",
     "output_type": "stream",
     "text": [
      "(38305, 170, 1) (38305, 60, 1)\n"
     ]
    }
   ],
   "source": [
    "print(new_train_x.shape, new_train_y.shape)"
   ]
  },
  {
   "cell_type": "code",
   "execution_count": 27,
   "id": "color-student",
   "metadata": {},
   "outputs": [
    {
     "name": "stdout",
     "output_type": "stream",
     "text": [
      "Model: \"sequential\"\n",
      "_________________________________________________________________\n",
      "Layer (type)                 Output Shape              Param #   \n",
      "=================================================================\n",
      "lstm (LSTM)                  (None, 32)                4352      \n",
      "_________________________________________________________________\n",
      "dense (Dense)                (None, 60)                1980      \n",
      "_________________________________________________________________\n",
      "reshape (Reshape)            (None, 60, 1)             0         \n",
      "=================================================================\n",
      "Total params: 6,332\n",
      "Trainable params: 6,332\n",
      "Non-trainable params: 0\n",
      "_________________________________________________________________\n"
     ]
    }
   ],
   "source": [
    "model.summary()"
   ]
  },
  {
   "cell_type": "markdown",
   "id": "facial-black",
   "metadata": {},
   "source": [
    "### 예측하기"
   ]
  },
  {
   "cell_type": "code",
   "execution_count": 28,
   "id": "armed-tract",
   "metadata": {},
   "outputs": [],
   "source": [
    "#기존 test_x를 다시 불러옵니다.\n",
    "test_x = tf.reshape(test_x_df.iloc[:,3].values, [-1, 1380, 1])"
   ]
  },
  {
   "cell_type": "code",
   "execution_count": 29,
   "id": "orange-pitch",
   "metadata": {},
   "outputs": [
    {
     "data": {
      "text/plain": [
       "TensorShape([535, 1380, 1])"
      ]
     },
     "execution_count": 29,
     "metadata": {},
     "output_type": "execute_result"
    }
   ],
   "source": [
    "auto_x=test_x\n",
    "auto_x.shape"
   ]
  },
  {
   "cell_type": "code",
   "execution_count": 30,
   "id": "distributed-sequence",
   "metadata": {},
   "outputs": [],
   "source": [
    "submission=np.zeros((535, 120, 9))"
   ]
  },
  {
   "cell_type": "code",
   "execution_count": 31,
   "id": "continent-astronomy",
   "metadata": {},
   "outputs": [
    {
     "name": "stdout",
     "output_type": "stream",
     "text": [
      "(535, 1440, 1)\n",
      "(535, 1500, 1)\n"
     ]
    }
   ],
   "source": [
    "end_=120\n",
    "output_window = 60\n",
    "\n",
    "for i in range(end_//output_window):\n",
    "    start_ = i *output_window\n",
    "    next_ = model.predict(auto_x[:, -170:, :])\n",
    "    auto_x=tf.concat([auto_x, next_], axis=1)\n",
    "    print(auto_x.shape)\n",
    "    submission[:, start_ : start_ + output_window, :] = next_"
   ]
  },
  {
   "cell_type": "code",
   "execution_count": 32,
   "id": "after-marijuana",
   "metadata": {},
   "outputs": [
    {
     "data": {
      "text/plain": [
       "(535, 120, 9)"
      ]
     },
     "execution_count": 32,
     "metadata": {},
     "output_type": "execute_result"
    }
   ],
   "source": [
    "submission.shape"
   ]
  },
  {
   "cell_type": "code",
   "execution_count": 33,
   "id": "unlimited-stick",
   "metadata": {},
   "outputs": [
    {
     "data": {
      "image/png": "[encoded data removed]",
      "text/plain": [
       "<Figure size 1440x360 with 1 Axes>"
      ]
     },
     "metadata": {
      "needs_background": "light"
     },
     "output_type": "display_data"
    }
   ],
   "source": [
    "row +=1\n",
    "plt.figure(figsize=(20,5))\n",
    "\n",
    "plt.plot(test_x[row,:, 0])\n",
    "plt.plot(np.arange(test_x.shape[1], test_x.shape[1]+ submission.shape[1]), submission[row, :, 0], label='pred open price')\n",
    "plt.legend()\n",
    "plt.show()"
   ]
  },
  {
   "cell_type": "code",
   "execution_count": null,
   "id": "architectural-source",
   "metadata": {},
   "outputs": [],
   "source": []
  }
 ],
 "metadata": {
  "kernelspec": {
   "display_name": "Python 3",
   "language": "python",
   "name": "python3"
  },
  "language_info": {
   "codemirror_mode": {
    "name": "ipython",
    "version": 3
   },
   "file_extension": ".py",
   "mimetype": "text/x-python",
   "name": "python",
   "nbconvert_exporter": "python",
   "pygments_lexer": "ipython3",
   "version": "3.8.7"
  }
 },
 "nbformat": 4,
 "nbformat_minor": 5
}
